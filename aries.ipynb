{
  "nbformat": 4,
  "nbformat_minor": 0,
  "metadata": {
    "colab": {
      "provenance": [],
      "authorship_tag": "ABX9TyMuntv9hMgVge//PqAOeBP4",
      "include_colab_link": true
    },
    "kernelspec": {
      "name": "python3",
      "display_name": "Python 3"
    },
    "language_info": {
      "name": "python"
    }
  },
  "cells": [
    {
      "cell_type": "markdown",
      "metadata": {
        "id": "view-in-github",
        "colab_type": "text"
      },
      "source": [
        "<a href=\"https://colab.research.google.com/github/Mannyyo/Gravital/blob/main/aries.ipynb\" target=\"_parent\"><img src=\"https://colab.research.google.com/assets/colab-badge.svg\" alt=\"Open In Colab\"/></a>"
      ]
    },
    {
      "cell_type": "code",
      "execution_count": 3,
      "metadata": {
        "id": "2FCiZJLehba0"
      },
      "outputs": [],
      "source": [
        "print('Hello, World!')\n"
      ]
    },
    {
      "cell_type": "code",
      "source": [
        "# LIBRARY\n",
        "import pygame\n",
        "import random\n",
        "import cv2\n",
        "import numpy as np"
      ],
      "metadata": {
        "id": "Z1PVQhKexl1G"
      },
      "execution_count": 7,
      "outputs": []
    },
    {
      "cell_type": "code",
      "source": [
        "# CONFIG.py\n",
        "\n",
        "LEIGTH = 800\n",
        "HEIGHT = 600\n",
        "DISPLAY_NAME = \"Bolas em Movimento\"\n",
        "FPS = 60\n",
        "WHITE = (255, 255, 255)\n",
        "RED = (255, 0, 0)\n",
        "VIDEO_NAME = \"gravacao.avi\"\n"
      ],
      "metadata": {
        "id": "9SNYbYZrtFZE"
      },
      "execution_count": 9,
      "outputs": []
    },
    {
      "cell_type": "code",
      "source": [
        "# Classe para a bola\n",
        "class Ball:\n",
        "    def __init__(self):\n",
        "        self.x = random.randint(20, LEIGTH - 20)\n",
        "        self.y = random.randint(20, HEIGHT - 20)\n",
        "        self.radius = 20\n",
        "        self.velocity_x = random.choice([-3, 3])\n",
        "        self.velocity_y = random.choice([-3, 3])\n",
        "\n",
        "    def mover(self):\n",
        "        self.x += self.velocity_x\n",
        "        self.y += self.velocity_y\n",
        "\n",
        "        # Colisão com as bordas da tela\n",
        "        if self.x - self.radius < 0 or self.x + self.radius > LEIGTH:\n",
        "            self.velocity_x *= -1\n",
        "        if self.y - self.radius < 0 or self.y + self.radius > HEIGHT:\n",
        "            self.velocity_y *= -1\n",
        "\n",
        "    def desenhar(self, tela):\n",
        "        pygame.draw.circle(tela, RED, (self.x, self.y), self.radius)"
      ],
      "metadata": {
        "id": "IMKCpdLt25NP"
      },
      "execution_count": 11,
      "outputs": []
    },
    {
      "cell_type": "markdown",
      "source": [],
      "metadata": {
        "id": "deIiY1w3sgT7"
      }
    },
    {
      "cell_type": "code",
      "source": [
        "# Inicializa o pygame\n",
        "pygame.init()\n",
        "\n",
        "# Configurações da tela\n",
        "scream = pygame.display.set_mode((LEIGTH, HEIGHT))\n",
        "pygame.display.set_caption(DISPLAY_NAME)\n",
        "\n",
        "# Lista de bolas\n",
        "balls = [Ball() for _ in range(5)]\n",
        "\n",
        "# Configuração do gravador de vídeo\n",
        "codec = cv2.VideoWriter_fourcc(*\"XVID\")\n",
        "recorder = cv2.VideoWriter(VIDEO_NAME, codec, FPS, (LEIGTH, HEIGHT))\n",
        "\n",
        "# Loop principal\n",
        "running = True\n",
        "clock = pygame.time.Clock()\n",
        "while running:\n",
        "    # Eventos\n",
        "    for evento in pygame.event.get():\n",
        "        if evento.type == pygame.QUIT:\n",
        "            running = False\n",
        "\n",
        "    # Movimento das bolas\n",
        "    for ball in balls:\n",
        "        ball.mover()\n",
        "\n",
        "    # Desenhar na tela\n",
        "    scream.fill((0, 0, 0))\n",
        "    for ball in balls:\n",
        "        ball.desenhar(scream)\n",
        "\n",
        "    # Capturar o quadro do pygame\n",
        "    frame = pygame.surfarray.array3d(scream)\n",
        "    frame = np.rot90(frame)\n",
        "    frame = cv2.cvtColor(frame, cv2.COLOR_RGB2BGR)\n",
        "\n",
        "    # Salvar o quadro no vídeo\n",
        "    recorder.write(frame)\n",
        "\n",
        "    # Atualiza a tela\n",
        "    pygame.display.flip()\n",
        "\n",
        "    # Controle de frames por segundo (FPS)\n",
        "    clock.tick(FPS)\n",
        "\n",
        "    # Finalizar simulação aleatoriamente\n",
        "    if random.randint(0, 100) < 1:\n",
        "        running = False\n",
        "\n",
        "# Finaliza o gravador e o pygame\n",
        "recorder.release()\n",
        "pygame.quit()\n"
      ],
      "metadata": {
        "id": "tZaqsmXuu-Nn"
      },
      "execution_count": 14,
      "outputs": []
    }
  ]
}